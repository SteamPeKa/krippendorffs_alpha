{
 "cells": [
  {
   "cell_type": "markdown",
   "metadata": {},
   "source": [
    "# On Krippendorff's $\\alpha$ calculation"
   ]
  },
  {
   "cell_type": "markdown",
   "metadata": {},
   "source": [
    "## Notation and indexing rules\n",
    "For extra clearence this document will use some notation rules described bellow."
   ]
  },
  {
   "cell_type": "markdown",
   "metadata": {},
   "source": [
    "### Notation\n",
    "1. Scalars will always be denoted as upper or lower case latin lettrs written in default style: $A$, $a_1$, $D$.\n",
    "2. Vectors and linead forms (single-indexed tensors) will be denoted as upper case bold latin letters: $\\mathbf{A}, \\mathbf{C}$.\n",
    "3. Matricies and other double-indexed tensors will be denoted will be denoted as upper case latin letters written in \"math blaskboard\" style: $\\mathbb{A}, \\mathbb{D}$. The exception is common symbols for sets of numbers such as $\\mathbb{N}$ for natural numbers, $\\mathbb{Z}$ for integers, $\\mathbb{R}$ for real numbers and so on.\n",
    "4. Tensors with more than two indicies will be denoted as upper case latin letters written in \"math calligraphic\" style: $\\mathcal{W}, \\mathcal{A}$."
   ]
  },
  {
   "cell_type": "markdown",
   "metadata": {},
   "source": [
    "### Indexing\n",
    "Since the document has no raisings of lowerings of indicies and other advanced linear algebra actions but contains instances of squaring all indicies will lower right subscripts: $\\mathcal{W}_{i,j,k}$. Also there will be some restrictions for names of indicies.\n",
    "\n",
    "1. For indexing tensor along axis assosiated with observers will be used letters $o$, $i$, $j$;\n",
    "1. For indexing tensor along axis assosiated with units will be used letters $u$, $m$, $s$;\n",
    "1. For indexing tensor along axis assosiated with possible answers set will be used letters $v$, $c$, $k$;\n"
   ]
  },
  {
   "cell_type": "markdown",
   "metadata": {},
   "source": [
    "## Data for examples\n",
    "\n",
    "Reliability data matrix from \\[1\\] section D is shown bellow\n",
    "\n",
    "|          |UNIT 1|UNIT 2|UNIT 3|UNIT 4|UNIT 5|UNIT 6|UNIT 7|UNIT 8|UNIT 9|UNIT 10|UNIT 11|UNIT 12|\n",
    "|:---------|-----:|-----:|-----:|-----:|-----:|-----:|-----:|-----:|-----:|------:|------:|------:|\n",
    "|OBSERVER A|1     |2     |3     |3     |2     |1     |4     |1     |2     |NULL   |NULL   |NULL   |\n",
    "|OBSERVER B|1     |2     |3     |3     |2     |2     |4     |1     |2     |5      |NULL   |3      |\n",
    "|OBSERVER C|NULL  |3     |3     |3     |2     |3     |4     |2     |2     |5      |1      |NULL   |\n",
    "|OBSERVER D|1     |2     |3     |3     |2     |4     |4     |1     |2     |5      |1      |NULL   |"
   ]
  },
  {
   "cell_type": "markdown",
   "metadata": {},
   "source": [
    "## Calculation"
   ]
  },
  {
   "cell_type": "markdown",
   "metadata": {},
   "source": [
    "### 3-dimentional matrix of encoded answers and othed definitions\n",
    "First let's denote $O$ the number of observers present in data and $U$ the number of units present in data. For data in example $O=4$ and $U=12$. \n",
    "\n",
    "Let $\\mathbf{A}$ be the ordered set of possible answers:\n",
    "$$\n",
    "\\mathbf{A} = [a_1,a_2,...].\n",
    "$$\n",
    "The exact order is not important it is just have to be the same across all future calculations. Elements in this order will be noted as $\\mathbf{A}_c$. The number of different possible answers be denoted as $|\\mathbf{A}|$\n",
    "\n",
    "For data in example $\\mathbf{A} = [\\text{\"1\"},\\text{\"2\"},\\text{\"3\"},\\text{\"4\"},\\text{\"5\"}]$ and $|\\mathbf{A}|=5$. We should draw attention that elements $a_v$ could have arbitrary nature, not only real number. Following the original paper we achive the necessary level of abstraction through constructiong the matrix of squared distances. "
   ]
  },
  {
   "cell_type": "markdown",
   "metadata": {},
   "source": [
    "Let $d^2(x,y): \\mathbf{A}\\times \\mathbf{A} \\to \\mathbb{R} $ be squared distance function, mapping a pair of possible values to a non-negative real number such as\n",
    "1. $d^{2}(x,x)\\equiv 0\\;\\;\\forall x \\in \\mathbf{A}$,\n",
    "2. $d^{2}(x,y)\\equiv d^2(y,x)\\;\\;\\forall x,y \\subset \\mathbf{A}$,\n",
    "3. $d^{2}(x,y) \\geq 0 \\;\\;\\forall x,y \\subset \\mathbf{A}$.\n",
    "The exact definition is arbtrary and only constrained by the nature of data. Some possible definitions could be found in original paper on calculation of Krippendorff's alpha (\\[1\\]) in Section D.\n",
    "\n",
    "Let $\\mathbb{D} = \\left\\{\\delta^2_{c,k}\\right\\}_{c,k=1}^{|\\mathbf{A}|}$ be the squared distance matrix which elements are distances between elements of $A$:\n",
    "$$\n",
    "\\delta^2_{c,k} = d(\\mathbf{A}_c, \\mathbf{A}_k)\\;\\;\\forall c,k \\subset 1..|\\mathbf{A}|.\n",
    "$$\n",
    "\n",
    "For future convenience let's introduce the modified scqured distances matrix $\\hat{\\Delta} = \\left\\{\\hat{\\delta}_{c,k}\\right\\}_{c,k=1}^{|\\mathbf{A}|}$ which elements are defined as following\n",
    "$$\n",
    "\\hat{\\delta}_{c,k} = \\left\\{\\begin{matrix}\n",
    "\\delta^{2}_{c,k} & ,k<c \\\\ \n",
    "0 &,  k \\geq c\n",
    "\\end{matrix}\\right. .\n",
    "$$\n",
    "The desired convenience consists in calculation of following double-sums:\n",
    "$$\n",
    "\\sum\\limits_{c}\\sum\\limits_{k>c}n_{u,c}n_{u,k}\\delta^2_{c,k} \\equiv \\sum\\limits_{c}\\sum\\limits_{k}n_{u,c}n_{u,k}\\hat{\\delta}^2_{c,k}\n",
    "$$"
   ]
  },
  {
   "cell_type": "markdown",
   "metadata": {},
   "source": [
    "Now let's costruct a three-dimentional matrix of encoded answers weights. It is convenient and consistant way to desribe any input reliability data. It is a result of \"index-encoding\" of answers given by  observer-by-units answers table like in [example](#Data-for-examples). After order of answer $\\mathbf{A}$ is fixed wi can replace answers in this table by a vectror of length $|\\mathbf{A}|$ filled with zeros except one place with 1 with with index associated with answer trought order $\\mathbf{A}$. \n",
    "\n",
    "In the example with order $\\mathbf{A} = [\\text{\"1\"},\\text{\"2\"},\\text{\"3\"},\\text{\"4\"},\\text{\"5\"}]$ the answer given by OBSERVER D for UNIT 6 (the answer is \"4\") is encoded with vector $[0,0,0,1,0]$. The missing answers if encoded by vectors filled with zeros. \n",
    "\n",
    "$$\n",
    "\\mathcal{W} = \\left\\{w_{o,u,v}\\right\\}_{o\\in 1..O;u\\in1..U;v\\in1..|A|}\n",
    "$$\n",
    "\n",
    "It is now clear the possible extention of input data: same observer can evaluate same unit nore than one time. In this case vector $\\mathbf{W}_{i,m}= [w_{i,m,1},w_{i,m,2},...,w_{i,m,|\\mathbf{A}|}]$ will represent the \"empirical distribution\" for answer by observer $i$ for unit $m$ with obviuos canstraints:\n",
    "1. $0 \\leqslant w_{o,u,v} \\leqslant 1, \\;\\; \\forall o\\in1..O,\\;u\\in1..U,\\;1..|\\mathbf{A}|$;\n",
    "2. $\\sum\\limits_{v}w_{o,u,v} = \\left\\{\\begin{matrix}\n",
    "1 & ,\\text{if unit }u\\text{ have been shown to observer }o, \\\\ \n",
    "0 &, \\text{otherwise};\n",
    "\\end{matrix}\\right. , \\;\\; \\forall o\\in1..O,\\;u\\in1..U$.\n",
    "\n",
    "Such data can occur in agreement evaluation of workers performint multiple choice microtasks on croudsourcing platforms like Yandex.Toloka. It is a common practice to sometimes assign microtasks with known right answer to workers in order to ensure that workers doing microtasks sincerely and not answering randomly. The amount of such verification tasks sometimes is not large enought and sometimes same verification tasks are presented to a observer more than once. Sometimes this verification tasks are difficult enough to not deem observer that answer wrong once or incinsistent a cheater but provide a continuous \"skill scale\" to filter observers depending of balance quality/speed.\n",
    "\n",
    "Let's also introduce the assignment matrix\n",
    "$$\n",
    "\\mathbb{P} = \\left\\{p_{o,u}\\right\\}_{o\\in1..O}^{u\\in1..U} = \\left\\{\\sum\\limits_{v}w_{o,u,v}\\right\\}_{o\\in1..O}^{u\\in1..U}\n",
    "$$\n",
    "(for this matrix $p_{o,u}=1$ if observer $o$ answered for unit $u$ and $p_{o,u}=0$ otherwise),\n",
    "and full-cross disagreement matrix for fixed metric $\\hat{\\delta}^2_{c,k}$:\n",
    "$$\n",
    "\\mathcal{Z} = \\left\\{z_{i,j,m,s}\\right\\}_{i,j\\in1..O}^{m,n\\in{1..U}} = \\left\\{ \\sum\\limits_{c}{\\sum\\limits_{k}{\\mathcal{w}_{i,m,c}w_{j,s,k}\\hat\\delta^{2}_{c,k}}} \\right\\}_{i,j\\in1..O}^{m,n\\in{1..U}}\n",
    "$$"
   ]
  },
  {
   "cell_type": "markdown",
   "metadata": {},
   "source": [
    "### Calculation \n",
    "The only purpose of this section is to rewrite calculation scheme presented in original paper \\[1\\] to use notation presented above (tensors $\\mathbb{P}$ and $\\mathcal{Z}$). "
   ]
  },
  {
   "cell_type": "markdown",
   "metadata": {},
   "source": [
    "First paper sugest to build \"value-by-unit\" matrix which using notation introduced above is:\n",
    "$$\n",
    "\\mathbb{V} = \\left\\{n_{c,n}\\right\\}_{c\\in1..|\\mathbf{A}|,n\\in1..U};\n",
    "$$\n",
    "$$\n",
    "n_{c,m} = \\sum\\limits_{i}w_{i,m,c}.\n",
    "$$\n",
    "\n",
    "Following the paper let's introduce frequency vectors and number of pairable labels:\n",
    "$$\n",
    "\\begin{align}\n",
    "n_{u,\\cdot} &= \\sum\\limits_{c}{n_{u,c}} = \\sum\\limits_{c}{\\sum\\limits_{o}{w_{o,u,c}}} = \\sum\\limits_{o}p_{o,u},\\\\\n",
    "n_{\\cdot,v} &= \\sum\\limits_{u}{n_{c,m}\\mathbb{1}\\left[n_{u,\\cdot}>1\\right]} = \\sum\\limits_{u}{\\sum\\limits_{o}{w_{o,u,v}\\mathbb{1}\\left[\\sum\\limits_{i}p_{i,u}>1\\right]}},\\\\\n",
    "n_{\\cdot,\\cdot} &= \\sum\\limits_{u}{\\mathbb{1}\\left[\\sum\\limits_{i}p_{i,u}>1\\right]\\sum\\limits_{o}p_{o,u}}\n",
    "\\end{align}\n",
    "$$"
   ]
  },
  {
   "cell_type": "markdown",
   "metadata": {},
   "source": [
    "The original general form of $\\alpha$ is shown below:\n",
    "$$\n",
    "\\alpha = 1 - (n_{\\cdot,\\cdot}-1)\\frac{\\sum\\limits_{u}{\\frac{1}{n_{u,\\cdot}-1}\\sum\\limits_{c}{\\sum\\limits_{k>c}{n_{u,c}n_{u,k}\\delta^{2}_{c,k}}}}}{\\sum\\limits_{c}{\\sum\\limits_{k>c}{n_{\\cdot,c}n_{\\cdot,k}\\delta^{2}_{c,k}}}}.\n",
    "$$\n",
    "\n",
    "Let's denote numerator and denominator in this equation sa follows:\n",
    "$$\n",
    "\\alpha = 1 - (n_{\\cdot,\\cdot}-1)\\frac{\\hat{D}_o}{\\hat{D}_e}.\n",
    "$$"
   ]
  },
  {
   "cell_type": "markdown",
   "metadata": {},
   "source": [
    "Then the denominator  in  have the following form:\n",
    "$$\n",
    "\\begin{align}\n",
    "\\hat{D}_e &= \\sum\\limits_{c}{\\sum\\limits_{k}{n_{\\cdot,c}n_{\\cdot,k}\\hat{\\delta}_{c,k}}} =\\\\&= \\sum\\limits_{c}{\\sum\\limits_{k}{\\left(\\sum\\limits_{m}{\\sum\\limits_{i}{w_{i,m,c}\\mathbb{1}\\left[\\sum\\limits_{o}p_{o,m}>1\\right]}}\\right)\\left(\\sum\\limits_{s}{\\sum\\limits_{j}{w_{j,s,k}\\mathbb{1}\\left[\\sum\\limits_{o}p_{o,s}>1\\right]}}\\right)\\hat{\\delta}^{2}_{c,k}}}=\\\\&=\n",
    "\\sum\\limits_{m}{\\sum\\limits_{s}{\\mathbb{1}\\left[\\sum\\limits_{o}p_{o,m}>1\\right]\\mathbb{1}\\left[\\sum\\limits_{o}p_{o,s}>1\\right]\\sum\\limits_{i}{\\sum\\limits_{j}{\\sum\\limits_{c}{\\sum\\limits_{k}{w_{i,m,c}w_{j,c,k}\\hat{\\delta}_{c,k}}}}}}}=\\\\&=\n",
    "\\sum\\limits_{m}{\\sum\\limits_{s}{\\mathbb{1}\\left[\\sum\\limits_{o}p_{o,m}>1\\right]\\mathbb{1}\\left[\\sum\\limits_{o}p_{o,s}>1\\right]\\sum\\limits_{i}{\\sum\\limits_{j}{z_{i,j,m,s}}}}}.\n",
    "\\end{align}\n",
    "$$\n",
    "And the numerator:\n",
    "$$\n",
    "\\begin{align}\n",
    "\\hat{D}_o &= \\sum\\limits_{u}{\\frac{1}{n_{u,\\cdot}-1}\\sum\\limits_{c}{\\sum\\limits_{k>c}{n_{u,c}n_{u,k}\\delta^{2}_{c,k}}}}=\\\\&=\n",
    "\\sum\\limits_{u}{\\begin{Bmatrix}\n",
    "\\frac{1}{\\sum\\limits_{o}{p_{o,u}}-1}, & \\sum\\limits_{o}{p_{o,u}}>1; \\\\ \n",
    "0, & \\sum\\limits_{o}{p_{o,u}}\\leqslant 1\n",
    "\\end{Bmatrix}\\sum\\limits_{i}{\\sum\\limits_{j}\\sum\\limits_{c}{\\sum\\limits_{k}{w_{i,u,c}w_{j,u,k}\\hat{\\delta}^{2}_{c,k}}}}}=\\\\&=\n",
    "\\sum\\limits_{u}{\\begin{Bmatrix}\n",
    "\\frac{1}{\\sum\\limits_{o}{p_{o,u}}-1}, & \\sum\\limits_{o}{p_{o,u}}>1; \\\\ \n",
    "0, & \\sum\\limits_{o}{p_{o,u}}\\leqslant 1\n",
    "\\end{Bmatrix}\\sum\\limits_{i}{\\sum\\limits_{j}z_{i,j,u,u} }}\n",
    "\\end{align}\n",
    "$$"
   ]
  },
  {
   "cell_type": "markdown",
   "metadata": {},
   "source": [
    "This computation form is completely useles for computing alpha once and even conusme far more RAM for computation than the original form. But for purposes of computing alpha for repsampled sets of units of observers with fixed distance matrix this form can perform faster calculation by precomputing sums by indices $c$ and $k$ for the cost of some RAM."
   ]
  },
  {
   "cell_type": "markdown",
   "metadata": {},
   "source": []
  },
  {
   "cell_type": "markdown",
   "metadata": {},
   "source": [
    "### Optimizing for Bootstap"
   ]
  },
  {
   "cell_type": "markdown",
   "metadata": {},
   "source": [
    "#### Observerwise Jackknife\n",
    "#### Unitwise Jackknife"
   ]
  },
  {
   "cell_type": "markdown",
   "metadata": {},
   "source": [
    "### References\n",
    "1. Krippendorff K. Computing Krippendorff's alpha-reliability. – 2011."
   ]
  },
  {
   "cell_type": "markdown",
   "metadata": {},
   "source": []
  },
  {
   "cell_type": "markdown",
   "metadata": {},
   "source": []
  }
 ],
 "metadata": {
  "kernelspec": {
   "display_name": "Python 3",
   "language": "python",
   "name": "python3"
  },
  "language_info": {
   "codemirror_mode": {
    "name": "ipython",
    "version": 3
   },
   "file_extension": ".py",
   "mimetype": "text/x-python",
   "name": "python",
   "nbconvert_exporter": "python",
   "pygments_lexer": "ipython3",
   "version": "3.8.5"
  }
 },
 "nbformat": 4,
 "nbformat_minor": 4
}
